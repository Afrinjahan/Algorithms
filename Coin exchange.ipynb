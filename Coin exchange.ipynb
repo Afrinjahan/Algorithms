{
 "cells": [
  {
   "cell_type": "code",
   "execution_count": 1,
   "metadata": {},
   "outputs": [
    {
     "name": "stdout",
     "output_type": "stream",
     "text": [
      "The Coins Array:\n",
      "1\n",
      "5\n",
      "10\n",
      "Solution:4\n"
     ]
    }
   ],
   "source": [
    "''' We have input values of N and an array Coins \n",
    "that holds all of the coins. We use data type \n",
    "of because long we want to be able to test \n",
    "large values\n",
    "without integer overflow'''\n",
    " \n",
    "def getNumberOfWays(N, Coins):\n",
    " \n",
    "    # Create the ways array to 1 plus the amount\n",
    "    # to stop overflow\n",
    "    ways = [0] * (N + 1);\n",
    " \n",
    "    # Set the first way to 1 because its 0 and\n",
    "    # there is 1 way to make 0 with 0 coins\n",
    "    ways[0] = 1;\n",
    " \n",
    "    # Go through all of the coins\n",
    "    for i in range(len(Coins)):\n",
    " \n",
    "        # Make a comparison to each index value\n",
    "        # of ways with the coin value.\n",
    "        for j in range(len(ways)):\n",
    "            if (Coins[i] <= j):\n",
    " \n",
    "                # Update the ways array\n",
    "                ways[j] += ways[(int)(j - Coins[i])];\n",
    " \n",
    "    # return the value at the Nth position\n",
    "    # of the ways array.\n",
    "    return ways[N];\n",
    " \n",
    "def printArray(coins):\n",
    "    for i in coins:\n",
    "        print(i);\n",
    " \n",
    "if __name__ == '__main__':\n",
    "    Coins = [1, 5, 10];\n",
    " \n",
    "    print(\"The Coins Array:\");\n",
    "    printArray(Coins);\n",
    " \n",
    "    print(\"Solution:\",end=\"\");\n",
    "    print(getNumberOfWays(12, Coins));\n",
    " \n"
   ]
  },
  {
   "cell_type": "markdown",
   "metadata": {},
   "source": [
    "Example 2: Suppose you are given the coins 1 cent, 5 cents, and 10 cents with N = 10 cents, what are the total number of combinations of the coins you can arrange to obtain 10 cents. \n",
    "\n",
    "Input : N=10\n",
    "        Coins : 1, 5, 10\n",
    "Output : 4\n",
    "Explanation: \n",
    "1 way: \n",
    "   1 + 1 + 1 + 1 + 1 + 1 + 1 + 1 + 1 + 1 = 10 cents.\n",
    "2 way: \n",
    "   1 + 1 + 1 + 1 + 1 + 5 = 10 cents.\n",
    "3 way: \n",
    "   5 + 5 = 10 cents.\n",
    "4 way: \n",
    "   10 cents = 10 cents."
   ]
  }
 ],
 "metadata": {
  "kernelspec": {
   "display_name": "Python 3",
   "language": "python",
   "name": "python3"
  },
  "language_info": {
   "codemirror_mode": {
    "name": "ipython",
    "version": 3
   },
   "file_extension": ".py",
   "mimetype": "text/x-python",
   "name": "python",
   "nbconvert_exporter": "python",
   "pygments_lexer": "ipython3",
   "version": "3.6.3"
  }
 },
 "nbformat": 4,
 "nbformat_minor": 2
}
